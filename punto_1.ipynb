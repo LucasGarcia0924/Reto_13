{
 "cells": [
  {
   "cell_type": "code",
   "execution_count": null,
   "metadata": {},
   "outputs": [],
   "source": [
    "def MostrarValoresAscendentes(Bandera: bool): # Función principal\n",
    "    valores: list = [] # Se crea la lista vacia de valores para ordenar\n",
    "    edades = CrearDicc(Bandera) # Se llama a la función para crear el diccionario de edades\n",
    "    \n",
    "    # Se crea bucle para tomar los valores y añadir a la lista\n",
    "    for llav, valor in edades.items():\n",
    "        valores.append(valor)\n",
    "    \n",
    "    valores.sort() # Se orden ascendentemente los valores\n",
    "    print(f\"\\nLas edades en orden ascedente son:{valores}\") # Se imprimen los valores \n",
    "\n",
    "def CrearDicc(Bandera : bool): # Función para crear el diccionario\n",
    "    edades: dict = {} # Se crea la variable del diccionario vacio\n",
    "    # Se imprimen instrucciones\n",
    "    print(\"Hagamos una lista de personas con sus edades\")\n",
    "    print(\"Cuando ya no vaya a agregar más individuos presione ENTER\")\n",
    "    while Bandera == True: # Bucle para agregar datos al diccionario\n",
    "        Nombre = str(input(\"Agrega el nombre de la persona\"))\n",
    "        if Nombre == \"\":\n",
    "            break\n",
    "        print(f\"\\nNombre: {Nombre}\") # Se imprime el nombre en cada iteración\n",
    "        Edad = int(input(\"Y ahora su edad\"))\n",
    "        print(f\"Edad: {Edad}\") # Se imprime la edad en cada iteración \n",
    "        edades[Nombre] = Edad # Se agregan los datos al diccionario\n",
    "    return edades # Se retornan las edades\n",
    "\n",
    "if __name__ == \"__main__\": # Función main para iniciar el código\n",
    "    Bandera: bool = True # Se declara la bandera\n",
    "    MostrarValoresAscendentes(Bandera) # Se llaman a la función principal"
   ]
  }
 ],
 "metadata": {
  "kernelspec": {
   "display_name": "Python 3",
   "language": "python",
   "name": "python3"
  },
  "language_info": {
   "codemirror_mode": {
    "name": "ipython",
    "version": 3
   },
   "file_extension": ".py",
   "mimetype": "text/x-python",
   "name": "python",
   "nbconvert_exporter": "python",
   "pygments_lexer": "ipython3",
   "version": "3.12.6"
  }
 },
 "nbformat": 4,
 "nbformat_minor": 2
}
